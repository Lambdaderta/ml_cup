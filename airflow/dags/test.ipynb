{
 "cells": [
  {
   "cell_type": "code",
   "execution_count": 1,
   "metadata": {},
   "outputs": [],
   "source": [
    "import pandas as pd\n",
    "\n",
    "data = []\n",
    "\n",
    "with open('/home/lambda/projects/mm_2/airflow/data/geo-reviews-dataset-2023.tskv', mode='r', encoding='UTF-8') as lines:\n",
    "    for line in lines:\n",
    "        row = {}\n",
    "        line = line.split('\\t')\n",
    "        for i in line:\n",
    "            lol = i.split('=', 1)\n",
    "            row[lol[0]] = lol[1]\n",
    "        data.append(row)\n",
    "\n",
    "df = pd.DataFrame(data=data)"
   ]
  },
  {
   "cell_type": "code",
   "execution_count": 2,
   "metadata": {},
   "outputs": [],
   "source": [
    "df['rating'] = df['rating'].apply(lambda x: int(x[0]))\n",
    "\n",
    "df['rubrics'] = df['rubrics'].apply(lambda x: set(x.split(';')))"
   ]
  },
  {
   "cell_type": "code",
   "execution_count": 3,
   "metadata": {},
   "outputs": [],
   "source": [
    "df = df[df['rubrics'].apply(lambda x: \"Гостиница\" in x)]\n",
    "df['city'] = df['address'].str.split(',').apply(lambda x: x[0])\n"
   ]
  },
  {
   "cell_type": "code",
   "execution_count": 4,
   "metadata": {},
   "outputs": [
    {
     "data": {
      "text/plain": [
       "address    0\n",
       "name_ru    0\n",
       "rating     0\n",
       "rubrics    0\n",
       "text       0\n",
       "city       0\n",
       "dtype: int64"
      ]
     },
     "execution_count": 4,
     "metadata": {},
     "output_type": "execute_result"
    }
   ],
   "source": [
    "df = df.dropna()\n",
    "df.isnull().sum()"
   ]
  },
  {
   "cell_type": "code",
   "execution_count": 10,
   "metadata": {},
   "outputs": [],
   "source": [
    "df = df.reset_index(drop=True)"
   ]
  },
  {
   "cell_type": "code",
   "execution_count": 16,
   "metadata": {},
   "outputs": [
    {
     "name": "stdout",
     "output_type": "stream",
     "text": [
      "43087\n",
      "10859\n",
      "[5 3 4 2 1 0]\n"
     ]
    }
   ],
   "source": [
    "print(len(df['text'].unique()))\n",
    "print(len(df['name_ru'].unique()))\n",
    "print((df['rating'].unique()))\n",
    "\n"
   ]
  },
  {
   "cell_type": "code",
   "execution_count": 12,
   "metadata": {},
   "outputs": [
    {
     "data": {
      "text/plain": [
       "43091"
      ]
     },
     "execution_count": 12,
     "metadata": {},
     "output_type": "execute_result"
    }
   ],
   "source": [
    "len(df['name_ru'])"
   ]
  },
  {
   "cell_type": "code",
   "execution_count": 7,
   "metadata": {},
   "outputs": [
    {
     "name": "stdout",
     "output_type": "stream",
     "text": [
      "16        очен крут экскурс обязательн приед ещ за один ...\n",
      "48        понрав все гостеприимств чистот спокойств вним...\n",
      "77        моментальн бронирован быстр регистрац вежлив и...\n",
      "105       хорош отел девушк на ресепш очен доброжелатель...\n",
      "106       гостиниц понрав отличн сочетан цен и качеств о...\n",
      "                                ...                        \n",
      "499956    отличн отел ест все необходим халат зубн прина...\n",
      "499957    красив все нов хорош номер минус плох шумоизол...\n",
      "499958    в отел останов по дорог дом из москв в элист н...\n",
      "499959    тольк из за тог что по утр нет горяч вод в ном...\n",
      "499960    отел хорош чист и комфортн брал с завтрак впеч...\n",
      "Name: text, Length: 43091, dtype: object\n"
     ]
    }
   ],
   "source": [
    "import re\n",
    "from nltk.stem import SnowballStemmer\n",
    "\n",
    "\n",
    "def text_obr(line):\n",
    "    line = re.sub(r'[^а-яА-ЯёЁ\\s]+', ' ', line)\n",
    "    line = line.lower()\n",
    "    line = line.split()\n",
    "    line = [SnowballStemmer(language=\"russian\").stem(i) for i in line]\n",
    "    return \" \".join(line)\n",
    "\n",
    "X = df['text'].apply(lambda x: text_obr(x))\n",
    "\n",
    "print(X)"
   ]
  }
 ],
 "metadata": {
  "kernelspec": {
   "display_name": "Python 3",
   "language": "python",
   "name": "python3"
  },
  "language_info": {
   "codemirror_mode": {
    "name": "ipython",
    "version": 3
   },
   "file_extension": ".py",
   "mimetype": "text/x-python",
   "name": "python",
   "nbconvert_exporter": "python",
   "pygments_lexer": "ipython3",
   "version": "3.11.11"
  }
 },
 "nbformat": 4,
 "nbformat_minor": 2
}
